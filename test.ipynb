{
 "cells": [
  {
   "cell_type": "markdown",
   "metadata": {},
   "source": [
    "### Gaussian example"
   ]
  },
  {
   "cell_type": "code",
   "execution_count": null,
   "metadata": {},
   "outputs": [],
   "source": [
    "import numpy as np\n",
    "from sklearn.utils import check_random_state\n",
    "random_state = check_random_state(1)\n",
    "data0 = random_state.normal(0, 1, 100*30).reshape(100, 30)\n",
    "data = np.array(data0)"
   ]
  },
  {
   "cell_type": "markdown",
   "metadata": {},
   "source": [
    "### KNN "
   ]
  },
  {
   "cell_type": "code",
   "execution_count": 29,
   "metadata": {},
   "outputs": [
    {
     "name": "stdout",
     "output_type": "stream",
     "text": [
      "Euclidean Distance: 1.4317821063276355\n",
      "Top 10 nearest neighbor arrays to train[0]:\n",
      "[[6.3 3.4 5.6 2.4]\n",
      " [6.4 3.2 5.3 2.3]\n",
      " [6.5 3.2 5.1 2. ]\n",
      " [6.5 3.  5.2 2. ]\n",
      " [6.7 3.1 5.6 2.4]\n",
      " [6.4 3.1 5.5 1.8]\n",
      " [6.7 3.3 5.7 2.1]\n",
      " [6.7 3.3 5.7 2.5]\n",
      " [6.5 3.  5.8 2.2]\n",
      " [6.3 3.3 6.  2.5]]\n",
      "(array([[0.        , 0.24494897, 0.3       , 0.55677644, 0.6164414 ,\n",
      "        0.6244998 , 0.6244998 , 0.6244998 , 0.6244998 , 0.64807407,\n",
      "        0.64807407]]), array([[  0,  26,  77,  75,  25,   2,  56,  55, 100,  34,  39]]))\n"
     ]
    }
   ],
   "source": [
    "import numpy as np\n",
    "from sklearn.neighbors import KDTree\n",
    "import sklearn.datasets\n",
    "import sklearn.model_selection\n",
    "\n",
    "# Load iris dataset\n",
    "iris = sklearn.datasets.load_iris()\n",
    "train, _, _, _ = sklearn.model_selection.train_test_split(iris.data, iris.target, train_size=0.80)\n",
    "\n",
    "# Calculate Euclidean distance between train[0] and train[102]\n",
    "distance = np.linalg.norm(train[0] - train[102])\n",
    "print(\"Euclidean Distance:\", distance)\n",
    "\n",
    "# Build KDTree\n",
    "kdt = KDTree(train, leaf_size=30, metric='euclidean')\n",
    "\n",
    "data_row = train[0]\n",
    "# Function to find top 10 nearest neighbors to train[i]\n",
    "def find_top_10_neighbors(i):\n",
    "    distances, indices = kdt.query(train[i].reshape(1, -1), k=11)  # k=11 to include the point itself\n",
    "    return train[indices[0][1:]]  # Exclude the first index as it's the point itself\n",
    "\n",
    "# Example usage\n",
    "i = 0  # Index of the data point\n",
    "top_10_neighbors = find_top_10_neighbors(i)\n",
    "print(\"Top 10 nearest neighbor arrays to train[{}]:\\n{}\".format(i, top_10_neighbors))\n",
    "print(kdt.query(data_row.reshape(1, -1), k=11))\n"
   ]
  }
 ],
 "metadata": {
  "kernelspec": {
   "display_name": "venv",
   "language": "python",
   "name": "python3"
  },
  "language_info": {
   "codemirror_mode": {
    "name": "ipython",
    "version": 3
   },
   "file_extension": ".py",
   "mimetype": "text/x-python",
   "name": "python",
   "nbconvert_exporter": "python",
   "pygments_lexer": "ipython3",
   "version": "3.11.7"
  }
 },
 "nbformat": 4,
 "nbformat_minor": 2
}
